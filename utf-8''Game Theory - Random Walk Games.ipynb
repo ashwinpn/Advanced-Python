{
  "cells": [
    {
      "metadata": {
        "trusted": true
      },
      "cell_type": "code",
      "source": "print(\"hello\")",
      "execution_count": 1,
      "outputs": [
        {
          "output_type": "stream",
          "text": "hello\n",
          "name": "stdout"
        }
      ]
    },
    {
      "metadata": {
        "trusted": true
      },
      "cell_type": "code",
      "source": "import random \na = random.random()\nprint(a)",
      "execution_count": 2,
      "outputs": [
        {
          "output_type": "stream",
          "text": "0.9170152155032797\n",
          "name": "stdout"
        }
      ]
    },
    {
      "metadata": {
        "trusted": true
      },
      "cell_type": "code",
      "source": "start = 100\n# p is loss\np = 0.45\n# q is win\nq = 0.45\nfor i in range(1):\n    if random.random() < p:\n        start = start - 1\n    else:\n        start = start + 1\nprint(start)\nstart = 100\nfor i in range(10):\n    if random.random() < p:\n        start = start - 1\n    else:\n        start = start + 1\nprint(start)\nstart = 100\nfor i in range(100):\n    if random.random() < p:\n        start = start - 1\n    else:\n        start = start + 1\nprint(start)\nstart = 100\nfor i in range(500):\n    if random.random() < p:\n        start = start - 1\n    else:\n        start = start + 1\nprint(start)\nstart = 100\nfor i in range(1000):\n    if random.random() < p:\n        start = start - 1\n    else:\n        start = start + 1\nprint(start)       \nstart = 100\nfor i in range(10000):\n    if random.random() < p:\n        start = start - 1\n    else:\n        start = start + 1\nprint(start)\nstart = 100\nfor i in range(10000000):\n    if random.random() < p:\n        start = start - 1\n    else:\n        start = start + 1\nprint(start)",
      "execution_count": 25,
      "outputs": [
        {
          "output_type": "stream",
          "text": "101\n98\n108\n150\n224\n1140\n1000986\n",
          "name": "stdout"
        }
      ]
    },
    {
      "metadata": {
        "trusted": true
      },
      "cell_type": "code",
      "source": "start = 100\n# p is loss\np = 0.55\n# q is win\nq = 0.45\nfor i in range(1):\n    if random.random() < p:\n        start = start - 1\n    else:\n        start = start + 1\nprint(start)\nstart = 100\nfor i in range(10):\n    if random.random() < p:\n        start = start - 1\n    else:\n        start = start + 1\nprint(start)\nstart = 100\nfor i in range(100):\n    if random.random() < p:\n        start = start - 1\n    else:\n        start = start + 1\nprint(start)\nstart = 100\nfor i in range(500):\n    if random.random() < p:\n        start = start - 1\n    else:\n        start = start + 1\nprint(start)\nstart = 100\nfor i in range(1000):\n    if random.random() < p:\n        start = start - 1\n    else:\n        start = start + 1\nprint(start)       \nstart = 100\nfor i in range(10000):\n    if random.random() < p:\n        start = start - 1\n    else:\n        start = start + 1\nprint(start)\nstart = 100\nfor i in range(10000000):\n    if random.random() < p:\n        start = start - 1\n    else:\n        start = start + 1\nprint(start)",
      "execution_count": 24,
      "outputs": [
        {
          "output_type": "stream",
          "text": "101\n100\n66\n50\n-18\n-926\n-994756\n",
          "name": "stdout"
        }
      ]
    },
    {
      "metadata": {
        "trusted": true
      },
      "cell_type": "code",
      "source": "start = 100\n# p is loss\np = 0.50\n# q is win\nq = 0.50\nfor i in range(1):\n    if random.random() < p:\n        start = start - 1\n    else:\n        start = start + 1\nprint(start)\nfor i in range(10):\n    if random.random() < p:\n        start = start - 1\n    else:\n        start = start + 1\nprint(start)\nfor i in range(100):\n    if random.random() < p:\n        start = start - 1\n    else:\n        start = start + 1\nprint(start)\nfor i in range(500):\n    if random.random() < p:\n        start = start - 1\n    else:\n        start = start + 1\nprint(start)\nfor i in range(1000):\n    if random.random() < p:\n        start = start - 1\n    else:\n        start = start + 1\nprint(start)        \nfor i in range(10000):\n    if random.random() < p:\n        start = start - 1\n    else:\n        start = start + 1\nprint(start)\nfor i in range(10000000):\n    if random.random() < p:\n        start = start - 1\n    else:\n        start = start + 1\nprint(start)",
      "execution_count": 23,
      "outputs": [
        {
          "output_type": "stream",
          "text": "99\n97\n109\n117\n97\n153\n-3921\n",
          "name": "stdout"
        }
      ]
    },
    {
      "metadata": {
        "trusted": true
      },
      "cell_type": "code",
      "source": "# p is loss 1\np = 0.95\n# q is loss 2\nq = 0.30\nstart = 100\nfor i in range(1):\n    if random.random() < 0.5:\n        if random.random() < 0.95:\n            start = start - 1\n        else:\n            start = start + 1\n    else:\n        if random.random() < 0.30:\n            start = start - 1\n        else:\n            start = start + 1\nprint(start)\n\nstart = 100\nfor i in range(10):\n    if random.random() < 0.5:\n        if random.random() < 0.95:\n            start = start - 1\n        else:\n            start = start + 1\n    else:\n        if random.random() < 0.30:\n            start = start - 1\n        else:\n            start = start + 1\nprint(start)\n\nstart = 100\nfor i in range(100):\n    if random.random() < 0.5:\n        if random.random() < 0.95:\n            start = start - 1\n        else:\n            start = start + 1\n    else:\n        if random.random() < 0.30:\n            start = start - 1\n        else:\n            start = start + 1\nprint(start)\n\nstart = 100\nfor i in range(500):\n    if random.random() < 0.5:\n        if random.random() < 0.95:\n            start = start - 1\n        else:\n            start = start + 1\n    else:\n        if random.random() < 0.30:\n            start = start - 1\n        else:\n            start = start + 1\nprint(start)\n\nstart = 100\nfor i in range(1000):\n    if random.random() < 0.5:\n        if random.random() < 0.95:\n            start = start - 1\n        else:\n            start = start + 1\n    else:\n        if random.random() < 0.30:\n            start = start - 1\n        else:\n            start = start + 1\nprint(start)\n\nstart = 100\nfor i in range(10000):\n    if random.random() < 0.5:\n        if random.random() < 0.95:\n            start = start - 1\n        else:\n            start = start + 1\n    else:\n        if random.random() < 0.30:\n            start = start - 1\n        else:\n            start = start + 1\nprint(start)\n\nstart = 100\nfor i in range(10000000):\n    if random.random() < 0.5:\n        if random.random() < 0.95:\n            start = start - 1\n        else:\n            start = start + 1\n    else:\n        if random.random() < 0.30:\n            start = start - 1\n        else:\n            start = start + 1\nprint(start)",
      "execution_count": 30,
      "outputs": [
        {
          "output_type": "stream",
          "text": "99\n92\n76\n0\n-82\n-2464\n-2499614\n",
          "name": "stdout"
        }
      ]
    },
    {
      "metadata": {
        "trusted": true
      },
      "cell_type": "code",
      "source": "# p is loss 1\np = 0.95\n# q is loss 2\nq = 0.30\nstart = 100\nfor i in range(1):\n    if random.random() < 0.333:\n        if random.random() < 0.95:\n            start = start - 1\n        else:\n            start = start + 1\n    else:\n        if random.random() < 0.30:\n            start = start - 1\n        else:\n            start = start + 1\nprint(start)\n\nstart = 100\nfor i in range(10):\n    if random.random() < 0.333:\n        if random.random() < 0.95:\n            start = start - 1\n        else:\n            start = start + 1\n    else:\n        if random.random() < 0.30:\n            start = start - 1\n        else:\n            start = start + 1\nprint(start)\n\nstart = 100\nfor i in range(100):\n    if random.random() < 0.333:\n        if random.random() < 0.95:\n            start = start - 1\n        else:\n            start = start + 1\n    else:\n        if random.random() < 0.30:\n            start = start - 1\n        else:\n            start = start + 1\nprint(start)\n\nstart = 100\nfor i in range(500):\n    if random.random() < 0.333:\n        if random.random() < 0.95:\n            start = start - 1\n        else:\n            start = start + 1\n    else:\n        if random.random() < 0.30:\n            start = start - 1\n        else:\n            start = start + 1\nprint(start)\n\nstart = 100\nfor i in range(1000):\n    if random.random() < 0.333:\n        if random.random() < 0.95:\n            start = start - 1\n        else:\n            start = start + 1\n    else:\n        if random.random() < 0.30:\n            start = start - 1\n        else:\n            start = start + 1\nprint(start)\n\nstart = 100\nfor i in range(10000):\n    if random.random() < 0.333:\n        if random.random() < 0.95:\n            start = start - 1\n        else:\n            start = start + 1\n    else:\n        if random.random() < 0.30:\n            start = start - 1\n        else:\n            start = start + 1\nprint(start)\n\nstart = 100\nfor i in range(10000000):\n    if random.random() < 0.333:\n        if random.random() < 0.95:\n            start = start - 1\n        else:\n            start = start + 1\n    else:\n        if random.random() < 0.30:\n            start = start - 1\n        else:\n            start = start + 1\nprint(start)",
      "execution_count": 29,
      "outputs": [
        {
          "output_type": "stream",
          "text": "99\n102\n96\n90\n92\n-100\n-323150\n",
          "name": "stdout"
        }
      ]
    },
    {
      "metadata": {
        "trusted": true
      },
      "cell_type": "code",
      "source": "start = 100\nfor i in range(1):\n    if random.random() < 0.45:\n        start = start - 1\n    else:\n        start = start + 1\n    if random.random() < 0.333:\n        if random.random() < 0.95:\n            start = start - 1\n        else:\n            start = start + 1\n    else:\n        if random.random() < 0.30:\n            start = start - 1\n        else:\n            start = start + 1\n    if random.random() < 0.333:\n        if random.random() < 0.95:\n            start = start - 1\n        else:\n            start = start + 1\n    else:\n        if random.random() < 0.30:\n            start = start - 1\n        else:\n            start = start + 1\nprint(start)\n\nstart = 100\nfor i in range(10):\n    if random.random() < 0.45:\n        start = start - 1\n    else:\n        start = start + 1\n    if random.random() < 0.333:\n        if random.random() < 0.95:\n            start = start - 1\n        else:\n            start = start + 1\n    else:\n        if random.random() < 0.30:\n            start = start - 1\n        else:\n            start = start + 1\n    if random.random() < 0.333:\n        if random.random() < 0.95:\n            start = start - 1\n        else:\n            start = start + 1\n    else:\n        if random.random() < 0.30:\n            start = start - 1\n        else:\n            start = start + 1\nprint(start)\n\nstart = 100\nfor i in range(100):\n    if random.random() < 0.45:\n        start = start - 1\n    else:\n        start = start + 1\n    if random.random() < 0.333:\n        if random.random() < 0.95:\n            start = start - 1\n        else:\n            start = start + 1\n    else:\n        if random.random() < 0.30:\n            start = start - 1\n        else:\n            start = start + 1\n    if random.random() < 0.333:\n        if random.random() < 0.95:\n            start = start - 1\n        else:\n            start = start + 1\n    else:\n        if random.random() < 0.30:\n            start = start - 1\n        else:\n            start = start + 1\nprint(start)\n\nstart = 100\nfor i in range(1000):\n    if random.random() < 0.45:\n        start = start - 1\n    else:\n        start = start + 1\n    if random.random() < 0.333:\n        if random.random() < 0.95:\n            start = start - 1\n        else:\n            start = start + 1\n    else:\n        if random.random() < 0.30:\n            start = start - 1\n        else:\n            start = start + 1\n    if random.random() < 0.333:\n        if random.random() < 0.95:\n            start = start - 1\n        else:\n            start = start + 1\n    else:\n        if random.random() < 0.30:\n            start = start - 1\n        else:\n            start = start + 1\nprint(start)\n\nstart = 100\nfor i in range(5000):\n    if random.random() < 0.45:\n        start = start - 1\n    else:\n        start = start + 1\n    if random.random() < 0.333:\n        if random.random() < 0.95:\n            start = start - 1\n        else:\n            start = start + 1\n    else:\n        if random.random() < 0.30:\n            start = start - 1\n        else:\n            start = start + 1\n    if random.random() < 0.333:\n        if random.random() < 0.95:\n            start = start - 1\n        else:\n            start = start + 1\n    else:\n        if random.random() < 0.30:\n            start = start - 1\n        else:\n            start = start + 1\nprint(start)\n\nstart = 100\nfor i in range(10000):\n    if random.random() < 0.45:\n        start = start - 1\n    else:\n        start = start + 1\n    if random.random() < 0.333:\n        if random.random() < 0.95:\n            start = start - 1\n        else:\n            start = start + 1\n    else:\n        if random.random() < 0.30:\n            start = start - 1\n        else:\n            start = start + 1\n    if random.random() < 0.333:\n        if random.random() < 0.95:\n            start = start - 1\n        else:\n            start = start + 1\n    else:\n        if random.random() < 0.30:\n            start = start - 1\n        else:\n            start = start + 1\nprint(start)\n\nstart = 100\nfor i in range(10000000):\n    if random.random() < 0.45:\n        start = start - 1\n    else:\n        start = start + 1\n    if random.random() < 0.333:\n        if random.random() < 0.95:\n            start = start - 1\n        else:\n            start = start + 1\n    else:\n        if random.random() < 0.30:\n            start = start - 1\n        else:\n            start = start + 1\n    if random.random() < 0.333:\n        if random.random() < 0.95:\n            start = start - 1\n        else:\n            start = start + 1\n    else:\n        if random.random() < 0.30:\n            start = start - 1\n        else:\n            start = start + 1\nprint(start)",
      "execution_count": 34,
      "outputs": [
        {
          "output_type": "stream",
          "text": "101\n100\n106\n114\n372\n568\n334550\n",
          "name": "stdout"
        }
      ]
    },
    {
      "metadata": {
        "trusted": true
      },
      "cell_type": "code",
      "source": "start = 100\nfor i in range(1):\n    if random.random() < 0.45:\n        start = start - 1\n    else:\n        start = start + 1\n    if random.random() < 0.5:\n        if random.random() < 0.95:\n            start = start - 1\n        else:\n            start = start + 1\n    else:\n        if random.random() < 0.30:\n            start = start - 1\n        else:\n            start = start + 1\n    if random.random() < 0.5:\n        if random.random() < 0.95:\n            start = start - 1\n        else:\n            start = start + 1\n    else:\n        if random.random() < 0.30:\n            start = start - 1\n        else:\n            start = start + 1\nprint(start)\n\nstart = 100\nfor i in range(10):\n    if random.random() < 0.45:\n        start = start - 1\n    else:\n        start = start + 1\n    if random.random() < 0.5:\n        if random.random() < 0.95:\n            start = start - 1\n        else:\n            start = start + 1\n    else:\n        if random.random() < 0.30:\n            start = start - 1\n        else:\n            start = start + 1\n    if random.random() < 0.5:\n        if random.random() < 0.95:\n            start = start - 1\n        else:\n            start = start + 1\n    else:\n        if random.random() < 0.30:\n            start = start - 1\n        else:\n            start = start + 1\nprint(start)\n\nstart = 100\nfor i in range(100):\n    if random.random() < 0.45:\n        start = start - 1\n    else:\n        start = start + 1\n    if random.random() < 0.5:\n        if random.random() < 0.95:\n            start = start - 1\n        else:\n            start = start + 1\n    else:\n        if random.random() < 0.30:\n            start = start - 1\n        else:\n            start = start + 1\n    if random.random() < 0.5:\n        if random.random() < 0.95:\n            start = start - 1\n        else:\n            start = start + 1\n    else:\n        if random.random() < 0.30:\n            start = start - 1\n        else:\n            start = start + 1\nprint(start)\n\nstart = 100\nfor i in range(1000):\n    if random.random() < 0.45:\n        start = start - 1\n    else:\n        start = start + 1\n    if random.random() < 0.5:\n        if random.random() < 0.95:\n            start = start - 1\n        else:\n            start = start + 1\n    else:\n        if random.random() < 0.30:\n            start = start - 1\n        else:\n            start = start + 1\n    if random.random() < 0.5:\n        if random.random() < 0.95:\n            start = start - 1\n        else:\n            start = start + 1\n    else:\n        if random.random() < 0.30:\n            start = start - 1\n        else:\n            start = start + 1\nprint(start)\n\nstart = 100\nfor i in range(5000):\n    if random.random() < 0.45:\n        start = start - 1\n    else:\n        start = start + 1\n    if random.random() < 0.5:\n        if random.random() < 0.95:\n            start = start - 1\n        else:\n            start = start + 1\n    else:\n        if random.random() < 0.30:\n            start = start - 1\n        else:\n            start = start + 1\n    if random.random() < 0.5:\n        if random.random() < 0.95:\n            start = start - 1\n        else:\n            start = start + 1\n    else:\n        if random.random() < 0.30:\n            start = start - 1\n        else:\n            start = start + 1\nprint(start)\n\nstart = 100\nfor i in range(10000):\n    if random.random() < 0.45:\n        start = start - 1\n    else:\n        start = start + 1\n    if random.random() < 0.5:\n        if random.random() < 0.95:\n            start = start - 1\n        else:\n            start = start + 1\n    else:\n        if random.random() < 0.30:\n            start = start - 1\n        else:\n            start = start + 1\n    if random.random() < 0.5:\n        if random.random() < 0.95:\n            start = start - 1\n        else:\n            start = start + 1\n    else:\n        if random.random() < 0.30:\n            start = start - 1\n        else:\n            start = start + 1\nprint(start)\n\nstart = 100\nfor i in range(10000000):\n    if random.random() < 0.45:\n        start = start - 1\n    else:\n        start = start + 1\n    if random.random() < 0.5:\n        if random.random() < 0.95:\n            start = start - 1\n        else:\n            start = start + 1\n    else:\n        if random.random() < 0.30:\n            start = start - 1\n        else:\n            start = start + 1\n    if random.random() < 0.5:\n        if random.random() < 0.95:\n            start = start - 1\n        else:\n            start = start + 1\n    else:\n        if random.random() < 0.30:\n            start = start - 1\n        else:\n            start = start + 1\nprint(start)",
      "execution_count": 36,
      "outputs": [
        {
          "output_type": "stream",
          "text": "101\n90\n74\n-240\n-2050\n-3736\n-3988436\n",
          "name": "stdout"
        }
      ]
    },
    {
      "metadata": {
        "trusted": true
      },
      "cell_type": "code",
      "source": "",
      "execution_count": null,
      "outputs": []
    }
  ],
  "metadata": {
    "kernelspec": {
      "name": "python3",
      "display_name": "Python 3",
      "language": "python"
    },
    "language_info": {
      "mimetype": "text/x-python",
      "nbconvert_exporter": "python",
      "name": "python",
      "pygments_lexer": "ipython3",
      "version": "3.5.4",
      "file_extension": ".py",
      "codemirror_mode": {
        "version": 3,
        "name": "ipython"
      }
    }
  },
  "nbformat": 4,
  "nbformat_minor": 2
}