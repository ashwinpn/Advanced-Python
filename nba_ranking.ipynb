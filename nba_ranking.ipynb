{
  "nbformat": 4,
  "nbformat_minor": 0,
  "metadata": {
    "colab": {
      "name": "nba_ranking.ipynb",
      "provenance": [],
      "toc_visible": true
    }
  },
  "cells": [
    {
      "cell_type": "markdown",
      "metadata": {
        "id": "lBFG12wc4jiZ",
        "colab_type": "text"
      },
      "source": [
        "# Predicting NBA game wins\n",
        "\n",
        "In this notebook, we'll form a simple model to predict NBA game winners based on which teams are playing, whether they are playing at home or away, and which players are playing in the game and for how long.\n",
        "\n",
        "The goal is to demonstrate implementing a simple (but non-standard) regression model with CVXPY.\n",
        "\n",
        "# Imports and helper functions\n",
        "\n",
        "In the cell below, we define some helper functions to load the data, manipulate it, format it, and plot the results.\n",
        "\n",
        "The actual optimization code will be given in-line later in the notebook."
      ]
    },
    {
      "cell_type": "code",
      "metadata": {
        "id": "N5LGVOqo4jiz",
        "colab_type": "code",
        "colab": {}
      },
      "source": [
        "import os  \n",
        "import json\n",
        "import datetime\n",
        "from collections import defaultdict\n",
        "import numpy as np\n",
        "import cvxpy as cvx\n",
        "import matplotlib.pyplot as plt\n",
        "import matplotlib\n",
        "matplotlib.rcParams.update({'font.size': 14})\n",
        "\n",
        "class PlayerAppearance(object):\n",
        "    __slots__= \"name\", \"id\", \"minutes\", 'team'\n",
        "    \n",
        "class TeamAppearance(object):\n",
        "    __slots__ = 'id', 'score', 'players', 'home', 'gameid'\n",
        "\n",
        "class Game(object):\n",
        "    __slots__ = 'winner', 'loser', 'id', 'season'\n",
        "    \n",
        "\n",
        "def get_game_data():\n",
        "    '''Return a list of game objects from `gamestats` directory.'''\n",
        "    games = []\n",
        "\n",
        "    for fn in os.listdir('gamestats'):\n",
        "         if fn.endswith('.json'):\n",
        "            with open('gamestats/'+fn) as f:\n",
        "                a = json.load(f)\n",
        "\n",
        "                hometeamid = int(a['resultSets'][0]['rowSet'][0][6])\n",
        "                game = Game()\n",
        "                game.season = int(a['resultSets'][0]['rowSet'][0][8])\n",
        "                game.id = int(a['resultSets'][0]['rowSet'][0][2])\n",
        "\n",
        "                teams = [TeamAppearance(), TeamAppearance()]\n",
        "                for i, jteam in enumerate(a['resultSets'][1]['rowSet']):\n",
        "                    teams[i].id = str(jteam[4])\n",
        "                    teams[i].score = jteam[21]\n",
        "                    teams[i].home = jteam[3] == hometeamid\n",
        "                    teams[i].gameid = game.id\n",
        "                    teams[i].players = []\n",
        "\n",
        "                for jplayer in a['resultSets'][4]['rowSet']:\n",
        "                    if jplayer[8] == None or jplayer[8] == 0.0:\n",
        "                        continue\n",
        "                    player = PlayerAppearance()\n",
        "                    player.name = str(jplayer[5])\n",
        "                    player.id = jplayer[4]\n",
        "                    minutes = jplayer[8].split(':')\n",
        "                    minutes = float(minutes[0]) + float(minutes[1])/60.0\n",
        "                    player.minutes = minutes\n",
        "                    player.team = str(jplayer[2])\n",
        "\n",
        "                    for team in teams:\n",
        "                        if player.team == team.id:\n",
        "                            team.players.append(player)\n",
        "\n",
        "                if teams[0].score > teams[1].score:\n",
        "                    game.winner, game.loser = teams[0], teams[1]\n",
        "                else:\n",
        "                    game.winner, game.loser = teams[1], teams[0]\n",
        "\n",
        "                games.append(game)\n",
        "    return games\n",
        "\n",
        "def index_mappings(games):\n",
        "    '''Return mappings between player and game identifiers and an indexed ordering.\n",
        "    \n",
        "    Puts teams and players appearing in `games` in an arbitrary order.\n",
        "    This is the ordering which will be used to determine the relationship between\n",
        "    matrix rows in the matrix-stuffing step.\n",
        "    \n",
        "    Returns:\n",
        "    teams    --  ordered list of teams\n",
        "                 (index -> team)\n",
        "    players  --  ordered list of player pairs: (player name, unique player ID)\n",
        "                 (index -> player)\n",
        "    team2idx --  mapping team to index\n",
        "                 (team -> index)\n",
        "    pid2idx  --  mapping from unique player id to index\n",
        "                 (player -> index)\n",
        "    '''\n",
        "    teams = set()\n",
        "    players = set()\n",
        "    for game in games:\n",
        "        for team in game.winner, game.loser:\n",
        "            teams.add(team.id)\n",
        "            for player in team.players:\n",
        "                players.add((player.name,player.id))\n",
        "                \n",
        "\n",
        "    teams = list(teams)\n",
        "    players = list(players)\n",
        "    \n",
        "    team2idx = {t: i for i, t in enumerate(teams)}\n",
        "    pid2idx = {t[1]: i for i, t in enumerate(players)}\n",
        "    \n",
        "    return teams, players, team2idx, pid2idx\n",
        "\n",
        "def split_games(games,p=0.3):\n",
        "    '''Return games split into disjoint training and hold-out sets.'''\n",
        "    \n",
        "    games_holdout = np.random.choice(len(games),size=int(len(games)*p),replace=False)\n",
        "    \n",
        "    # training set\n",
        "    games_t = [games[i] for i in range(len(games)) if i not in games_holdout]\n",
        "    \n",
        "    # hold-out set\n",
        "    games_h = [games[i] for i in games_holdout]\n",
        "    \n",
        "    return games_t, games_h, \n",
        "\n",
        "def data_mats(games, team2idx,home=False,pid2idx=[]):\n",
        "    '''Stuff feature matrices for fitting model.\n",
        "    \n",
        "    Features included in the matrices depend on the function inputs.\n",
        "    \n",
        "    data_mats(games, team2idx) -- Team identities are the only features.\n",
        "        That is, W_ij = 1 if team j won game i. 0 otherwise.\n",
        "        \n",
        "    data_mats(games, team2idx, home=True) -- Appends a column to W and L corresponding to\n",
        "        whether the team was the home team.\n",
        "        \n",
        "    data_mats(games, team2idx,home=True,pid2idx=pid2idx) -- Appends columns\n",
        "        to W and L corresponding to which players played and what fraction\n",
        "        of 48 minutes they played in the game. That is, *if* j corresponds\n",
        "        to a player column, then W_ij = t/48, where t is how many minutes\n",
        "        player j (from the winning team) played in game i.\n",
        "    '''\n",
        "    m, n = len(games), len(team2idx)\n",
        "    W, L = np.zeros((m,n)), np.zeros((m,n))\n",
        "    \n",
        "    Wh, Lh = np.zeros((m,1)), np.zeros((m,1))\n",
        "    \n",
        "    n = len(pid2idx)\n",
        "    Wp, Lp = np.zeros((m,n)), np.zeros((m,n))\n",
        "\n",
        "    for i, game in enumerate(games):\n",
        "        for A, Ah, Ap, team in [(W, Wh, Wp, game.winner),(L, Lh, Lp, game.loser)]:\n",
        "            A[i,team2idx[team.id]] = 1\n",
        "            if team.home:\n",
        "                Ah[i] = 1\n",
        "            if len(pid2idx) > 0:\n",
        "                for player in team.players:\n",
        "                    Ap[i,pid2idx[player.id]] = player.minutes/48\n",
        "                    \n",
        "    if home:\n",
        "        W = np.hstack([W, Wh])\n",
        "        L = np.hstack([L, Lh])\n",
        "    if len(pid2idx) > 0:\n",
        "        W = np.hstack([W, Wp])\n",
        "        L = np.hstack([L, Lp])\n",
        "    \n",
        "    return W, L\n",
        "\n",
        "def percent_correct(W,L,w):\n",
        "    '''Return percentage correctly predicted for games (W,L) and model parameters w.\n",
        "    \n",
        "    W and L can be from training or hold-out data.\n",
        "    '''\n",
        "    m, n = W.shape\n",
        "    return float(sum((W-L).dot(w) > 0))/m\n",
        "\n",
        "def reg_path(games,holdout,gammas,N, home=False, playertime=False):\n",
        "    '''Plot a regularization path.\n",
        "    \n",
        "    For each of N times, partition games into a training\n",
        "    and hold-out set, with `holdout` giving the hold-out proportion.\n",
        "    For each gamma in gammas, train the model on the training set\n",
        "    and evaluate it on both the training and hold out sets.\n",
        "    \n",
        "    Plot a data point for each instance with gamma on the x-axis\n",
        "    and the percent correct on the y-axis. Also plot a line showing\n",
        "    the average for each gamma.\n",
        "    \n",
        "    Optional arguments:\n",
        "    home -- include home team feature\n",
        "    playertime -- include player minutes played features\n",
        "    '''\n",
        "    v_t = []\n",
        "    v_h = []\n",
        "    \n",
        "    teams, players, team2idx, pid2idx = index_mappings(games)\n",
        "    if playertime is False:\n",
        "        pid2idx = []\n",
        "\n",
        "    for i in range(N):\n",
        "        print '\\nPartition {}'.format(i),\n",
        "        games_t, games_h = split_games(games, holdout)\n",
        "        W, L = data_mats(games_t, team2idx, home, pid2idx)\n",
        "        Wh, Lh = data_mats(games_h, team2idx, home, pid2idx)\n",
        "        for gamma in gammas:\n",
        "            print '.',\n",
        "            x = fit(W,L,gamma)\n",
        "            v_t.append((gamma,percent_correct(W,L,x)))\n",
        "            v_h.append((gamma,percent_correct(Wh,Lh,x)))\n",
        "            \n",
        "    alpha = .3\n",
        "    fig, ax = plt.subplots(2, 1, sharex=True)\n",
        "    fig.set_size_inches((10,10))\n",
        "    a,b = zip(*v_t)\n",
        "    ax[0].scatter(a,b,alpha=alpha)\n",
        "    ax[0].set_ylabel('Training set % correct')\n",
        "    a,b = zip(*v_h)\n",
        "    ax[1].scatter(a,b,alpha=alpha)\n",
        "    ax[1].set_ylabel('Test set % correct')\n",
        "    ax[1].set_xlabel('Regularization $\\gamma$')\n",
        "\n",
        "    for i, path in enumerate([v_t,v_h]):\n",
        "        avg = defaultdict(float)\n",
        "        tot = defaultdict(float)\n",
        "        for gamma, pred in path:\n",
        "            avg[gamma] += pred\n",
        "            tot[gamma] += 1.0\n",
        "\n",
        "        for gamma in avg.keys():\n",
        "            avg[gamma] /= tot[gamma]\n",
        "\n",
        "        gammas = sorted(avg.keys())\n",
        "        vals = [avg[key] for key in gammas]\n",
        "        ax[i].plot(gammas, vals, 'r' )\n",
        "\n",
        "    ax[0].legend(('average','data partition instance'))\n",
        "    \n",
        "    return v_t, v_h"
      ],
      "execution_count": 0,
      "outputs": []
    },
    {
      "cell_type": "markdown",
      "metadata": {
        "id": "fjNjJiLP4jjK",
        "colab_type": "text"
      },
      "source": [
        "# Raw data\n",
        "\n",
        "Below, we load the NBA game data from the 'gamestats' folder. We have games from NBA seasons 2010-2013. For each game, we identify the winning and losing team and the NBA season in which the game was played. For each team appearance in a game, we have the score, a list of player appearances, and whether the team played at home or away. For each player appearance in a game, we have the player's name, a unique player ID, and the number of minutes they played in the game.\n",
        "\n",
        "# Model\n",
        "\n",
        "We will train our model on a set of $m$ games.\n",
        "The data point for game $i$ consists of an ordered pair of feature vectors, $(x^w_i, x^l_i) \\in \\mathbf{R}^n \\times \\mathbf{R}^n$.\n",
        "The first vector in the pair represents the winning team. Feature vectors consist of $n$ features which may include which team is playing, if they are the home team, and how many minutes each player on the team played.\n",
        "\n",
        "We want to find model parameters $w$ for the classifier function $f_w(x,y) = (x-y)^T w$.\n",
        "The model predicts that a team with features $x$ will beat a team with features $y$ if $f_w(x,y) > 0$.\n",
        "Note that the classification inequality is homogenous in $w$.\n",
        "That is, the classifier is invariant to scalings of $w$.\n",
        "\n",
        "To properly predict all games, we would need $f_w(x^w_i, x^l_i) > 0$ for all games $i$.\n",
        "This set of homogenous strict inequalities in $w$ is feasible if and only if\n",
        "there is some scaling $\\tilde{w} = \\alpha w$ such that\n",
        "$f_{\\tilde{w}}(x^w_i, x^l_i) \\geq 1$ for all $i$. This motivates the loss function which we'll use:\n",
        "\n",
        "\\begin{equation}\n",
        "L(w) = \\frac{1}{m}\\sum_{i=1}^m \\max \\lbrace 1 - (x^w_i - x^l_i)^T w, 0 \\rbrace.\n",
        "\\end{equation}\n",
        "\n",
        "The function $L(w)$ assigns a positive loss whenever the classification inequality $f_w(x^w_i, x^l_i) \\geq 1$\n",
        "is violated.\n",
        "\n",
        "We'll choose $w$ by minimizing the loss $L(w)$, plus a regularization term $\\gamma \\| w \\|_2$.\n",
        "The regularization term is used to prevent over-fitting.\n",
        "\n",
        "We use the `fit(W,L,gamma)` function defined below to solve the optimization problem\n",
        "\n",
        "\\begin{array}{ll}\n",
        "\\mbox{minimize} & L(w) + \\gamma \\| w \\|_2,\n",
        "\\end{array}\n",
        "\n",
        "where $W,L \\in \\mathbf{R}^{m \\times n}$ are data matrices, with row $i$ of $W$ ($L$) corresponding to $x^w_i$ ($x^l_i$)."
      ]
    },
    {
      "cell_type": "code",
      "metadata": {
        "id": "7ZG0SGlj4jjP",
        "colab_type": "code",
        "colab": {}
      },
      "source": [
        "def fit(W,L,gamma):\n",
        "    '''Return model parameters w trained on data (W,L) with regularization gamma.'''\n",
        "    m,n = W.shape\n",
        "    w = cvx.Variable(shape=(n,1))\n",
        "\n",
        "    objective = cvx.sum(cvx.pos(1 - (W-L)*w))/m + gamma*cvx.norm(w)\n",
        "    objective = cvx.Minimize( objective )\n",
        "    prob = cvx.Problem(objective)\n",
        "    result = prob.solve(solver=cvx.ECOS, verbose=False)\n",
        "    if prob.status != 'optimal':\n",
        "        print \"ERROR!\"\n",
        "    return np.array(w.value).flatten()"
      ],
      "execution_count": 0,
      "outputs": []
    },
    {
      "cell_type": "markdown",
      "metadata": {
        "id": "0IVIBY5K4jjn",
        "colab_type": "text"
      },
      "source": [
        "# Example\n",
        "\n",
        "Load the list of games from the `gamestats` directory and select only the games from a single season."
      ]
    },
    {
      "cell_type": "code",
      "metadata": {
        "id": "MtypOApz4jjv",
        "colab_type": "code",
        "colab": {},
        "outputId": "ae72b2a5-b0e8-4000-d93f-06c7548cb0ad"
      },
      "source": [
        "games = get_game_data()\n",
        "\n",
        "# select just games in a single season\n",
        "games = [game for game in games if game.season == 2010]\n",
        "len(games)"
      ],
      "execution_count": 0,
      "outputs": [
        {
          "output_type": "execute_result",
          "data": {},
          "metadata": {
            "tags": []
          },
          "execution_count": 3
        }
      ]
    },
    {
      "cell_type": "markdown",
      "metadata": {
        "id": "CgHjUS0B4jkC",
        "colab_type": "text"
      },
      "source": [
        "Choose some ordering of the teams and players for indexing purposes, and get a mapping between the index and unique identifiers."
      ]
    },
    {
      "cell_type": "code",
      "metadata": {
        "id": "K1C00G_U4jkI",
        "colab_type": "code",
        "colab": {}
      },
      "source": [
        "teams, players, team2idx, pid2idx = index_mappings(games)"
      ],
      "execution_count": 0,
      "outputs": []
    },
    {
      "cell_type": "markdown",
      "metadata": {
        "id": "N2Wzj6K64jkb",
        "colab_type": "text"
      },
      "source": [
        "Randomly split the games so that 70% are in a training set and 30% are in a hold-out set. Produce the data matrices $W$ and $L$ for the training and hold-out sets. Use features giving the team id, if they are the home team, and the time played for each player."
      ]
    },
    {
      "cell_type": "code",
      "metadata": {
        "id": "W_tf8wZj4jkh",
        "colab_type": "code",
        "colab": {}
      },
      "source": [
        "np.random.seed(2)\n",
        "games_t, games_h = split_games(games, .3)\n",
        "\n",
        "W, L = data_mats(games_t, team2idx, True, pid2idx)\n",
        "Wh, Lh = data_mats(games_h, team2idx, True, pid2idx)"
      ],
      "execution_count": 0,
      "outputs": []
    },
    {
      "cell_type": "markdown",
      "metadata": {
        "id": "aWXM17z64jk1",
        "colab_type": "text"
      },
      "source": [
        "Train the model with **no** regularization on the training set and evaluate the classification performance on both the training and hold-out set."
      ]
    },
    {
      "cell_type": "code",
      "metadata": {
        "id": "du9rrMLu4jk5",
        "colab_type": "code",
        "colab": {},
        "outputId": "69525130-d503-4d4e-cb6a-6dbb5b76161f"
      },
      "source": [
        "gamma = 0\n",
        "w = fit(W,L,gamma)\n",
        "\n",
        "print \"Training set %% correct: %f\"%percent_correct(W,L,w)\n",
        "print \"Hold-out set %% correct: %f\"%percent_correct(Wh,Lh,w)"
      ],
      "execution_count": 0,
      "outputs": [
        {
          "output_type": "stream",
          "text": [
            "Training set % correct: 1.000000\n",
            "Hold-out set % correct: 0.582656\n"
          ],
          "name": "stdout"
        }
      ]
    },
    {
      "cell_type": "markdown",
      "metadata": {
        "id": "y8gNpy9w4jlD",
        "colab_type": "text"
      },
      "source": [
        "We can see that we've over fit the model because the classification is perfect on the training set, but low on the hold-out set. Adding some regularization should improve the predictive performance on the hold-out set:"
      ]
    },
    {
      "cell_type": "code",
      "metadata": {
        "id": "r9gZe5WX4jlF",
        "colab_type": "code",
        "colab": {},
        "outputId": "77bf330c-5979-4422-f482-967e94a03ce1"
      },
      "source": [
        "gamma = .03\n",
        "w = fit(W,L,gamma)\n",
        "\n",
        "print \"Training set %% correct: %f\"%percent_correct(W,L,w)\n",
        "print \"Hold-out set %% correct: %f\"%percent_correct(Wh,Lh,w)"
      ],
      "execution_count": 0,
      "outputs": [
        {
          "output_type": "stream",
          "text": [
            "Training set % correct: 0.786295\n",
            "Hold-out set % correct: 0.682927\n"
          ],
          "name": "stdout"
        }
      ]
    },
    {
      "cell_type": "markdown",
      "metadata": {
        "id": "IJXgbSEE4jlP",
        "colab_type": "text"
      },
      "source": [
        "# Regularization paths\n",
        "\n",
        "We'll find good choices for the regularization hyper-parameter $\\gamma$ by plotting a regularization path.\n",
        "We'll randomly partition the data into training and hold-out sets and plot the percentage of games predicted correctly over a range of choices of $\\gamma$. We'll do this several times for each choice of $\\gamma$ and plot the average result.\n",
        "\n",
        "We'll plot the regularization path over different sets of features. First, we'll just use team identities, then we'll add whether the team played at home, and then we'll add the times played of each player.\n",
        "\n",
        "We should see an increase in predictive power as we add features.\n",
        "\n",
        "Note that some of these examples may take a few minutes to run.\n",
        "\n",
        "## Team identities\n",
        "\n",
        "When the features include just the team identities, the model reduces to just assigning a ranking to each team. This model is so simple that it is hard to over-fit it on our data, so regularization has little effect."
      ]
    },
    {
      "cell_type": "code",
      "metadata": {
        "id": "spsJTMng4jlV",
        "colab_type": "code",
        "colab": {},
        "outputId": "83533865-ecad-485b-bf7f-84842f7f1000"
      },
      "source": [
        "np.random.seed(0)\n",
        "gammas = np.linspace(0,1,20)\n",
        "v_t, v_h = reg_path(games,.3,gammas,5,False, False)"
      ],
      "execution_count": 0,
      "outputs": [
        {
          "output_type": "stream",
          "text": [
            "\n",
            "Partition 0 . . "
          ],
          "name": "stdout"
        },
        {
          "output_type": "stream",
          "text": [
            ". . "
          ],
          "name": "stdout"
        },
        {
          "output_type": "stream",
          "text": [
            ". . "
          ],
          "name": "stdout"
        },
        {
          "output_type": "stream",
          "text": [
            ". . "
          ],
          "name": "stdout"
        },
        {
          "output_type": "stream",
          "text": [
            ". . "
          ],
          "name": "stdout"
        },
        {
          "output_type": "stream",
          "text": [
            ". . "
          ],
          "name": "stdout"
        },
        {
          "output_type": "stream",
          "text": [
            ". . "
          ],
          "name": "stdout"
        },
        {
          "output_type": "stream",
          "text": [
            ". . "
          ],
          "name": "stdout"
        },
        {
          "output_type": "stream",
          "text": [
            ". . "
          ],
          "name": "stdout"
        },
        {
          "output_type": "stream",
          "text": [
            ". . "
          ],
          "name": "stdout"
        },
        {
          "output_type": "stream",
          "text": [
            "\n",
            "Partition 1 . . "
          ],
          "name": "stdout"
        },
        {
          "output_type": "stream",
          "text": [
            ". . "
          ],
          "name": "stdout"
        },
        {
          "output_type": "stream",
          "text": [
            ". . "
          ],
          "name": "stdout"
        },
        {
          "output_type": "stream",
          "text": [
            ". . "
          ],
          "name": "stdout"
        },
        {
          "output_type": "stream",
          "text": [
            ". . "
          ],
          "name": "stdout"
        },
        {
          "output_type": "stream",
          "text": [
            ". . "
          ],
          "name": "stdout"
        },
        {
          "output_type": "stream",
          "text": [
            ". . "
          ],
          "name": "stdout"
        },
        {
          "output_type": "stream",
          "text": [
            ". . "
          ],
          "name": "stdout"
        },
        {
          "output_type": "stream",
          "text": [
            ". . "
          ],
          "name": "stdout"
        },
        {
          "output_type": "stream",
          "text": [
            ". . "
          ],
          "name": "stdout"
        },
        {
          "output_type": "stream",
          "text": [
            "\n",
            "Partition 2 . . "
          ],
          "name": "stdout"
        },
        {
          "output_type": "stream",
          "text": [
            ". . "
          ],
          "name": "stdout"
        },
        {
          "output_type": "stream",
          "text": [
            ". . "
          ],
          "name": "stdout"
        },
        {
          "output_type": "stream",
          "text": [
            ". . "
          ],
          "name": "stdout"
        },
        {
          "output_type": "stream",
          "text": [
            ". . "
          ],
          "name": "stdout"
        },
        {
          "output_type": "stream",
          "text": [
            ". . "
          ],
          "name": "stdout"
        },
        {
          "output_type": "stream",
          "text": [
            ". . "
          ],
          "name": "stdout"
        },
        {
          "output_type": "stream",
          "text": [
            ". . "
          ],
          "name": "stdout"
        },
        {
          "output_type": "stream",
          "text": [
            ". . "
          ],
          "name": "stdout"
        },
        {
          "output_type": "stream",
          "text": [
            ". . "
          ],
          "name": "stdout"
        },
        {
          "output_type": "stream",
          "text": [
            "\n",
            "Partition 3 . . "
          ],
          "name": "stdout"
        },
        {
          "output_type": "stream",
          "text": [
            ". . "
          ],
          "name": "stdout"
        },
        {
          "output_type": "stream",
          "text": [
            ". . "
          ],
          "name": "stdout"
        },
        {
          "output_type": "stream",
          "text": [
            ". . "
          ],
          "name": "stdout"
        },
        {
          "output_type": "stream",
          "text": [
            ". . "
          ],
          "name": "stdout"
        },
        {
          "output_type": "stream",
          "text": [
            ". . "
          ],
          "name": "stdout"
        },
        {
          "output_type": "stream",
          "text": [
            ". . "
          ],
          "name": "stdout"
        },
        {
          "output_type": "stream",
          "text": [
            ". . "
          ],
          "name": "stdout"
        },
        {
          "output_type": "stream",
          "text": [
            ". "
          ],
          "name": "stdout"
        },
        {
          "output_type": "stream",
          "text": [
            ". . "
          ],
          "name": "stdout"
        },
        {
          "output_type": "stream",
          "text": [
            ". \n",
            "Partition 4 . "
          ],
          "name": "stdout"
        },
        {
          "output_type": "stream",
          "text": [
            ". . "
          ],
          "name": "stdout"
        },
        {
          "output_type": "stream",
          "text": [
            ". . "
          ],
          "name": "stdout"
        },
        {
          "output_type": "stream",
          "text": [
            ". . "
          ],
          "name": "stdout"
        },
        {
          "output_type": "stream",
          "text": [
            ". . "
          ],
          "name": "stdout"
        },
        {
          "output_type": "stream",
          "text": [
            ". . "
          ],
          "name": "stdout"
        },
        {
          "output_type": "stream",
          "text": [
            ". . "
          ],
          "name": "stdout"
        },
        {
          "output_type": "stream",
          "text": [
            ". . "
          ],
          "name": "stdout"
        },
        {
          "output_type": "stream",
          "text": [
            ". . "
          ],
          "name": "stdout"
        },
        {
          "output_type": "stream",
          "text": [
            ". . "
          ],
          "name": "stdout"
        },
        {
          "output_type": "stream",
          "text": [
            ".\n"
          ],
          "name": "stdout"
        },
        {
          "output_type": "display_data",
          "data": {},
          "metadata": {
            "tags": []
          }
        }
      ]
    },
    {
      "cell_type": "markdown",
      "metadata": {
        "id": "ZuJoKMV04jlf",
        "colab_type": "text"
      },
      "source": [
        "## Identities + home/away\n",
        "\n",
        "We add a single feature denoting whether the teams played at home. This doesn't add much to our model complexity, so it is still difficult to over-fit. The predictive power is about the same as the previous model."
      ]
    },
    {
      "cell_type": "code",
      "metadata": {
        "id": "C1RYtQeM4jli",
        "colab_type": "code",
        "colab": {},
        "outputId": "f45b5e77-b6cd-4224-d543-395f59c405f4"
      },
      "source": [
        "np.random.seed(0)\n",
        "gammas = np.linspace(0,.1,50)\n",
        "v_t, v_h = reg_path(games,.3,gammas,5,True, False)"
      ],
      "execution_count": 0,
      "outputs": [
        {
          "output_type": "stream",
          "text": [
            "\n",
            "Partition 0 . "
          ],
          "name": "stdout"
        },
        {
          "output_type": "stream",
          "text": [
            ". "
          ],
          "name": "stdout"
        },
        {
          "output_type": "stream",
          "text": [
            ". "
          ],
          "name": "stdout"
        },
        {
          "output_type": "stream",
          "text": [
            ". "
          ],
          "name": "stdout"
        },
        {
          "output_type": "stream",
          "text": [
            ". "
          ],
          "name": "stdout"
        },
        {
          "output_type": "stream",
          "text": [
            ". . "
          ],
          "name": "stdout"
        },
        {
          "output_type": "stream",
          "text": [
            ". . "
          ],
          "name": "stdout"
        },
        {
          "output_type": "stream",
          "text": [
            ". . "
          ],
          "name": "stdout"
        },
        {
          "output_type": "stream",
          "text": [
            ". "
          ],
          "name": "stdout"
        },
        {
          "output_type": "stream",
          "text": [
            ". . "
          ],
          "name": "stdout"
        },
        {
          "output_type": "stream",
          "text": [
            ". . "
          ],
          "name": "stdout"
        },
        {
          "output_type": "stream",
          "text": [
            ". . "
          ],
          "name": "stdout"
        },
        {
          "output_type": "stream",
          "text": [
            ". . "
          ],
          "name": "stdout"
        },
        {
          "output_type": "stream",
          "text": [
            ". "
          ],
          "name": "stdout"
        },
        {
          "output_type": "stream",
          "text": [
            ". . "
          ],
          "name": "stdout"
        },
        {
          "output_type": "stream",
          "text": [
            ". . "
          ],
          "name": "stdout"
        },
        {
          "output_type": "stream",
          "text": [
            ". . "
          ],
          "name": "stdout"
        },
        {
          "output_type": "stream",
          "text": [
            ". . "
          ],
          "name": "stdout"
        },
        {
          "output_type": "stream",
          "text": [
            ". . "
          ],
          "name": "stdout"
        },
        {
          "output_type": "stream",
          "text": [
            ". "
          ],
          "name": "stdout"
        },
        {
          "output_type": "stream",
          "text": [
            ". "
          ],
          "name": "stdout"
        },
        {
          "output_type": "stream",
          "text": [
            ". "
          ],
          "name": "stdout"
        },
        {
          "output_type": "stream",
          "text": [
            ". "
          ],
          "name": "stdout"
        },
        {
          "output_type": "stream",
          "text": [
            ". "
          ],
          "name": "stdout"
        },
        {
          "output_type": "stream",
          "text": [
            ". . "
          ],
          "name": "stdout"
        },
        {
          "output_type": "stream",
          "text": [
            ". "
          ],
          "name": "stdout"
        },
        {
          "output_type": "stream",
          "text": [
            ". . "
          ],
          "name": "stdout"
        },
        {
          "output_type": "stream",
          "text": [
            ". "
          ],
          "name": "stdout"
        },
        {
          "output_type": "stream",
          "text": [
            ". . "
          ],
          "name": "stdout"
        },
        {
          "output_type": "stream",
          "text": [
            ". . "
          ],
          "name": "stdout"
        },
        {
          "output_type": "stream",
          "text": [
            ". . "
          ],
          "name": "stdout"
        },
        {
          "output_type": "stream",
          "text": [
            ". . "
          ],
          "name": "stdout"
        },
        {
          "output_type": "stream",
          "text": [
            "\n",
            "Partition 1 . . "
          ],
          "name": "stdout"
        },
        {
          "output_type": "stream",
          "text": [
            ". . "
          ],
          "name": "stdout"
        },
        {
          "output_type": "stream",
          "text": [
            ". . "
          ],
          "name": "stdout"
        },
        {
          "output_type": "stream",
          "text": [
            ". "
          ],
          "name": "stdout"
        },
        {
          "output_type": "stream",
          "text": [
            ". "
          ],
          "name": "stdout"
        },
        {
          "output_type": "stream",
          "text": [
            ". "
          ],
          "name": "stdout"
        },
        {
          "output_type": "stream",
          "text": [
            ". "
          ],
          "name": "stdout"
        },
        {
          "output_type": "stream",
          "text": [
            ". "
          ],
          "name": "stdout"
        },
        {
          "output_type": "stream",
          "text": [
            ". "
          ],
          "name": "stdout"
        },
        {
          "output_type": "stream",
          "text": [
            ". "
          ],
          "name": "stdout"
        },
        {
          "output_type": "stream",
          "text": [
            ". "
          ],
          "name": "stdout"
        },
        {
          "output_type": "stream",
          "text": [
            ". "
          ],
          "name": "stdout"
        },
        {
          "output_type": "stream",
          "text": [
            ". "
          ],
          "name": "stdout"
        },
        {
          "output_type": "stream",
          "text": [
            ". "
          ],
          "name": "stdout"
        },
        {
          "output_type": "stream",
          "text": [
            ". "
          ],
          "name": "stdout"
        },
        {
          "output_type": "stream",
          "text": [
            ". "
          ],
          "name": "stdout"
        },
        {
          "output_type": "stream",
          "text": [
            ". "
          ],
          "name": "stdout"
        },
        {
          "output_type": "stream",
          "text": [
            ". . "
          ],
          "name": "stdout"
        },
        {
          "output_type": "stream",
          "text": [
            ". . "
          ],
          "name": "stdout"
        },
        {
          "output_type": "stream",
          "text": [
            ". . "
          ],
          "name": "stdout"
        },
        {
          "output_type": "stream",
          "text": [
            ". . "
          ],
          "name": "stdout"
        },
        {
          "output_type": "stream",
          "text": [
            ". . "
          ],
          "name": "stdout"
        },
        {
          "output_type": "stream",
          "text": [
            ". "
          ],
          "name": "stdout"
        },
        {
          "output_type": "stream",
          "text": [
            ". "
          ],
          "name": "stdout"
        },
        {
          "output_type": "stream",
          "text": [
            ". "
          ],
          "name": "stdout"
        },
        {
          "output_type": "stream",
          "text": [
            ". "
          ],
          "name": "stdout"
        },
        {
          "output_type": "stream",
          "text": [
            ". "
          ],
          "name": "stdout"
        },
        {
          "output_type": "stream",
          "text": [
            ". "
          ],
          "name": "stdout"
        },
        {
          "output_type": "stream",
          "text": [
            ". "
          ],
          "name": "stdout"
        },
        {
          "output_type": "stream",
          "text": [
            ". "
          ],
          "name": "stdout"
        },
        {
          "output_type": "stream",
          "text": [
            ". "
          ],
          "name": "stdout"
        },
        {
          "output_type": "stream",
          "text": [
            ". "
          ],
          "name": "stdout"
        },
        {
          "output_type": "stream",
          "text": [
            ". "
          ],
          "name": "stdout"
        },
        {
          "output_type": "stream",
          "text": [
            ". "
          ],
          "name": "stdout"
        },
        {
          "output_type": "stream",
          "text": [
            ". "
          ],
          "name": "stdout"
        },
        {
          "output_type": "stream",
          "text": [
            ". "
          ],
          "name": "stdout"
        },
        {
          "output_type": "stream",
          "text": [
            ". "
          ],
          "name": "stdout"
        },
        {
          "output_type": "stream",
          "text": [
            ". "
          ],
          "name": "stdout"
        },
        {
          "output_type": "stream",
          "text": [
            ". . "
          ],
          "name": "stdout"
        },
        {
          "output_type": "stream",
          "text": [
            ". "
          ],
          "name": "stdout"
        },
        {
          "output_type": "stream",
          "text": [
            ". "
          ],
          "name": "stdout"
        },
        {
          "output_type": "stream",
          "text": [
            "\n",
            "Partition 2 . "
          ],
          "name": "stdout"
        },
        {
          "output_type": "stream",
          "text": [
            ". "
          ],
          "name": "stdout"
        },
        {
          "output_type": "stream",
          "text": [
            ". "
          ],
          "name": "stdout"
        },
        {
          "output_type": "stream",
          "text": [
            ". "
          ],
          "name": "stdout"
        },
        {
          "output_type": "stream",
          "text": [
            ". "
          ],
          "name": "stdout"
        },
        {
          "output_type": "stream",
          "text": [
            ". "
          ],
          "name": "stdout"
        },
        {
          "output_type": "stream",
          "text": [
            ". "
          ],
          "name": "stdout"
        },
        {
          "output_type": "stream",
          "text": [
            ". "
          ],
          "name": "stdout"
        },
        {
          "output_type": "stream",
          "text": [
            ". . "
          ],
          "name": "stdout"
        },
        {
          "output_type": "stream",
          "text": [
            ". "
          ],
          "name": "stdout"
        },
        {
          "output_type": "stream",
          "text": [
            ". . "
          ],
          "name": "stdout"
        },
        {
          "output_type": "stream",
          "text": [
            ". "
          ],
          "name": "stdout"
        },
        {
          "output_type": "stream",
          "text": [
            ". . "
          ],
          "name": "stdout"
        },
        {
          "output_type": "stream",
          "text": [
            ". . "
          ],
          "name": "stdout"
        },
        {
          "output_type": "stream",
          "text": [
            ". "
          ],
          "name": "stdout"
        },
        {
          "output_type": "stream",
          "text": [
            ". "
          ],
          "name": "stdout"
        },
        {
          "output_type": "stream",
          "text": [
            ". . "
          ],
          "name": "stdout"
        },
        {
          "output_type": "stream",
          "text": [
            ". . "
          ],
          "name": "stdout"
        },
        {
          "output_type": "stream",
          "text": [
            ". . "
          ],
          "name": "stdout"
        },
        {
          "output_type": "stream",
          "text": [
            ". . "
          ],
          "name": "stdout"
        },
        {
          "output_type": "stream",
          "text": [
            ". . "
          ],
          "name": "stdout"
        },
        {
          "output_type": "stream",
          "text": [
            ". . "
          ],
          "name": "stdout"
        },
        {
          "output_type": "stream",
          "text": [
            ". "
          ],
          "name": "stdout"
        },
        {
          "output_type": "stream",
          "text": [
            ". "
          ],
          "name": "stdout"
        },
        {
          "output_type": "stream",
          "text": [
            ". "
          ],
          "name": "stdout"
        },
        {
          "output_type": "stream",
          "text": [
            ". . "
          ],
          "name": "stdout"
        },
        {
          "output_type": "stream",
          "text": [
            ". . "
          ],
          "name": "stdout"
        },
        {
          "output_type": "stream",
          "text": [
            ". . "
          ],
          "name": "stdout"
        },
        {
          "output_type": "stream",
          "text": [
            ". . "
          ],
          "name": "stdout"
        },
        {
          "output_type": "stream",
          "text": [
            ". . "
          ],
          "name": "stdout"
        },
        {
          "output_type": "stream",
          "text": [
            ". . "
          ],
          "name": "stdout"
        },
        {
          "output_type": "stream",
          "text": [
            ". "
          ],
          "name": "stdout"
        },
        {
          "output_type": "stream",
          "text": [
            ". . "
          ],
          "name": "stdout"
        },
        {
          "output_type": "stream",
          "text": [
            "\n",
            "Partition 3 . . "
          ],
          "name": "stdout"
        },
        {
          "output_type": "stream",
          "text": [
            ". "
          ],
          "name": "stdout"
        },
        {
          "output_type": "stream",
          "text": [
            ". . "
          ],
          "name": "stdout"
        },
        {
          "output_type": "stream",
          "text": [
            ". . "
          ],
          "name": "stdout"
        },
        {
          "output_type": "stream",
          "text": [
            ". . "
          ],
          "name": "stdout"
        },
        {
          "output_type": "stream",
          "text": [
            ". . "
          ],
          "name": "stdout"
        },
        {
          "output_type": "stream",
          "text": [
            ". . "
          ],
          "name": "stdout"
        },
        {
          "output_type": "stream",
          "text": [
            ". . "
          ],
          "name": "stdout"
        },
        {
          "output_type": "stream",
          "text": [
            ". . "
          ],
          "name": "stdout"
        },
        {
          "output_type": "stream",
          "text": [
            ". . "
          ],
          "name": "stdout"
        },
        {
          "output_type": "stream",
          "text": [
            ". "
          ],
          "name": "stdout"
        },
        {
          "output_type": "stream",
          "text": [
            ". "
          ],
          "name": "stdout"
        },
        {
          "output_type": "stream",
          "text": [
            ". "
          ],
          "name": "stdout"
        },
        {
          "output_type": "stream",
          "text": [
            ". "
          ],
          "name": "stdout"
        },
        {
          "output_type": "stream",
          "text": [
            ". "
          ],
          "name": "stdout"
        },
        {
          "output_type": "stream",
          "text": [
            ". "
          ],
          "name": "stdout"
        },
        {
          "output_type": "stream",
          "text": [
            ". "
          ],
          "name": "stdout"
        },
        {
          "output_type": "stream",
          "text": [
            ". "
          ],
          "name": "stdout"
        },
        {
          "output_type": "stream",
          "text": [
            ". "
          ],
          "name": "stdout"
        },
        {
          "output_type": "stream",
          "text": [
            ". "
          ],
          "name": "stdout"
        },
        {
          "output_type": "stream",
          "text": [
            ". "
          ],
          "name": "stdout"
        },
        {
          "output_type": "stream",
          "text": [
            ". "
          ],
          "name": "stdout"
        },
        {
          "output_type": "stream",
          "text": [
            ". . "
          ],
          "name": "stdout"
        },
        {
          "output_type": "stream",
          "text": [
            ". . "
          ],
          "name": "stdout"
        },
        {
          "output_type": "stream",
          "text": [
            ". "
          ],
          "name": "stdout"
        },
        {
          "output_type": "stream",
          "text": [
            ". "
          ],
          "name": "stdout"
        },
        {
          "output_type": "stream",
          "text": [
            ". . "
          ],
          "name": "stdout"
        },
        {
          "output_type": "stream",
          "text": [
            ". . "
          ],
          "name": "stdout"
        },
        {
          "output_type": "stream",
          "text": [
            ". . "
          ],
          "name": "stdout"
        },
        {
          "output_type": "stream",
          "text": [
            ". . "
          ],
          "name": "stdout"
        },
        {
          "output_type": "stream",
          "text": [
            ". . "
          ],
          "name": "stdout"
        },
        {
          "output_type": "stream",
          "text": [
            ". "
          ],
          "name": "stdout"
        },
        {
          "output_type": "stream",
          "text": [
            ". . "
          ],
          "name": "stdout"
        },
        {
          "output_type": "stream",
          "text": [
            "\n",
            "Partition 4 . . "
          ],
          "name": "stdout"
        },
        {
          "output_type": "stream",
          "text": [
            ". . "
          ],
          "name": "stdout"
        },
        {
          "output_type": "stream",
          "text": [
            ". . "
          ],
          "name": "stdout"
        },
        {
          "output_type": "stream",
          "text": [
            ". . "
          ],
          "name": "stdout"
        },
        {
          "output_type": "stream",
          "text": [
            ". . "
          ],
          "name": "stdout"
        },
        {
          "output_type": "stream",
          "text": [
            ". . "
          ],
          "name": "stdout"
        },
        {
          "output_type": "stream",
          "text": [
            ". . "
          ],
          "name": "stdout"
        },
        {
          "output_type": "stream",
          "text": [
            ". . "
          ],
          "name": "stdout"
        },
        {
          "output_type": "stream",
          "text": [
            ". . "
          ],
          "name": "stdout"
        },
        {
          "output_type": "stream",
          "text": [
            ". . "
          ],
          "name": "stdout"
        },
        {
          "output_type": "stream",
          "text": [
            ". . "
          ],
          "name": "stdout"
        },
        {
          "output_type": "stream",
          "text": [
            ". "
          ],
          "name": "stdout"
        },
        {
          "output_type": "stream",
          "text": [
            ". "
          ],
          "name": "stdout"
        },
        {
          "output_type": "stream",
          "text": [
            ". "
          ],
          "name": "stdout"
        },
        {
          "output_type": "stream",
          "text": [
            ". "
          ],
          "name": "stdout"
        },
        {
          "output_type": "stream",
          "text": [
            ". "
          ],
          "name": "stdout"
        },
        {
          "output_type": "stream",
          "text": [
            ". "
          ],
          "name": "stdout"
        },
        {
          "output_type": "stream",
          "text": [
            ". "
          ],
          "name": "stdout"
        },
        {
          "output_type": "stream",
          "text": [
            ". "
          ],
          "name": "stdout"
        },
        {
          "output_type": "stream",
          "text": [
            ". "
          ],
          "name": "stdout"
        },
        {
          "output_type": "stream",
          "text": [
            ". "
          ],
          "name": "stdout"
        },
        {
          "output_type": "stream",
          "text": [
            ". "
          ],
          "name": "stdout"
        },
        {
          "output_type": "stream",
          "text": [
            ". "
          ],
          "name": "stdout"
        },
        {
          "output_type": "stream",
          "text": [
            ". . "
          ],
          "name": "stdout"
        },
        {
          "output_type": "stream",
          "text": [
            ". . "
          ],
          "name": "stdout"
        },
        {
          "output_type": "stream",
          "text": [
            ". "
          ],
          "name": "stdout"
        },
        {
          "output_type": "stream",
          "text": [
            ". "
          ],
          "name": "stdout"
        },
        {
          "output_type": "stream",
          "text": [
            ". . "
          ],
          "name": "stdout"
        },
        {
          "output_type": "stream",
          "text": [
            ". . "
          ],
          "name": "stdout"
        },
        {
          "output_type": "stream",
          "text": [
            ". . "
          ],
          "name": "stdout"
        },
        {
          "output_type": "stream",
          "text": [
            ". . "
          ],
          "name": "stdout"
        },
        {
          "output_type": "stream",
          "text": [
            ". "
          ],
          "name": "stdout"
        },
        {
          "output_type": "stream",
          "text": [
            ".\n"
          ],
          "name": "stdout"
        },
        {
          "output_type": "display_data",
          "data": {},
          "metadata": {
            "tags": []
          }
        }
      ]
    },
    {
      "cell_type": "markdown",
      "metadata": {
        "id": "Y5JyfNLu4jlv",
        "colab_type": "text"
      },
      "source": [
        "## Identities + home/away + player minutes\n",
        "\n",
        "We add in the number of minutes each player played in each game. This adds many variables to the model and thus makes it much easier to over-fit. We can see that the classification is perfect on the training set, which suggests over fitting. We find that we get better performance on the hold-out set with some added regularization."
      ]
    },
    {
      "cell_type": "code",
      "metadata": {
        "id": "g7m36cjU4jl4",
        "colab_type": "code",
        "colab": {},
        "outputId": "1d67f1f5-1e0c-4531-a8bb-2082c83a2a75"
      },
      "source": [
        "np.random.seed(0)\n",
        "gammas = np.linspace(0,.2,40)\n",
        "v_t, v_h = reg_path(games,.3,gammas,5,True, True)"
      ],
      "execution_count": 0,
      "outputs": [
        {
          "output_type": "stream",
          "text": [
            "\n",
            "Partition 0 . "
          ],
          "name": "stdout"
        },
        {
          "output_type": "stream",
          "text": [
            ". "
          ],
          "name": "stdout"
        },
        {
          "output_type": "stream",
          "text": [
            ". "
          ],
          "name": "stdout"
        },
        {
          "output_type": "stream",
          "text": [
            ". "
          ],
          "name": "stdout"
        },
        {
          "output_type": "stream",
          "text": [
            ". "
          ],
          "name": "stdout"
        },
        {
          "output_type": "stream",
          "text": [
            ". "
          ],
          "name": "stdout"
        },
        {
          "output_type": "stream",
          "text": [
            ". "
          ],
          "name": "stdout"
        },
        {
          "output_type": "stream",
          "text": [
            ". "
          ],
          "name": "stdout"
        },
        {
          "output_type": "stream",
          "text": [
            ". "
          ],
          "name": "stdout"
        },
        {
          "output_type": "stream",
          "text": [
            ". "
          ],
          "name": "stdout"
        },
        {
          "output_type": "stream",
          "text": [
            ". "
          ],
          "name": "stdout"
        },
        {
          "output_type": "stream",
          "text": [
            ". "
          ],
          "name": "stdout"
        },
        {
          "output_type": "stream",
          "text": [
            ". "
          ],
          "name": "stdout"
        },
        {
          "output_type": "stream",
          "text": [
            ". "
          ],
          "name": "stdout"
        },
        {
          "output_type": "stream",
          "text": [
            ". "
          ],
          "name": "stdout"
        },
        {
          "output_type": "stream",
          "text": [
            ". "
          ],
          "name": "stdout"
        },
        {
          "output_type": "stream",
          "text": [
            ". "
          ],
          "name": "stdout"
        },
        {
          "output_type": "stream",
          "text": [
            ". "
          ],
          "name": "stdout"
        },
        {
          "output_type": "stream",
          "text": [
            ". "
          ],
          "name": "stdout"
        },
        {
          "output_type": "stream",
          "text": [
            ". "
          ],
          "name": "stdout"
        },
        {
          "output_type": "stream",
          "text": [
            ". "
          ],
          "name": "stdout"
        },
        {
          "output_type": "stream",
          "text": [
            ". "
          ],
          "name": "stdout"
        },
        {
          "output_type": "stream",
          "text": [
            ". "
          ],
          "name": "stdout"
        },
        {
          "output_type": "stream",
          "text": [
            ". "
          ],
          "name": "stdout"
        },
        {
          "output_type": "stream",
          "text": [
            ". "
          ],
          "name": "stdout"
        },
        {
          "output_type": "stream",
          "text": [
            ". "
          ],
          "name": "stdout"
        },
        {
          "output_type": "stream",
          "text": [
            ". "
          ],
          "name": "stdout"
        },
        {
          "output_type": "stream",
          "text": [
            ". "
          ],
          "name": "stdout"
        },
        {
          "output_type": "stream",
          "text": [
            ". "
          ],
          "name": "stdout"
        },
        {
          "output_type": "stream",
          "text": [
            ". "
          ],
          "name": "stdout"
        },
        {
          "output_type": "stream",
          "text": [
            ". "
          ],
          "name": "stdout"
        },
        {
          "output_type": "stream",
          "text": [
            ". "
          ],
          "name": "stdout"
        },
        {
          "output_type": "stream",
          "text": [
            ". "
          ],
          "name": "stdout"
        },
        {
          "output_type": "stream",
          "text": [
            ". "
          ],
          "name": "stdout"
        },
        {
          "output_type": "stream",
          "text": [
            ". "
          ],
          "name": "stdout"
        },
        {
          "output_type": "stream",
          "text": [
            ". "
          ],
          "name": "stdout"
        },
        {
          "output_type": "stream",
          "text": [
            ". "
          ],
          "name": "stdout"
        },
        {
          "output_type": "stream",
          "text": [
            ". "
          ],
          "name": "stdout"
        },
        {
          "output_type": "stream",
          "text": [
            ". "
          ],
          "name": "stdout"
        },
        {
          "output_type": "stream",
          "text": [
            ". "
          ],
          "name": "stdout"
        },
        {
          "output_type": "stream",
          "text": [
            "\n",
            "Partition 1 . "
          ],
          "name": "stdout"
        },
        {
          "output_type": "stream",
          "text": [
            ". "
          ],
          "name": "stdout"
        },
        {
          "output_type": "stream",
          "text": [
            ". "
          ],
          "name": "stdout"
        },
        {
          "output_type": "stream",
          "text": [
            ". "
          ],
          "name": "stdout"
        },
        {
          "output_type": "stream",
          "text": [
            ". "
          ],
          "name": "stdout"
        },
        {
          "output_type": "stream",
          "text": [
            ". "
          ],
          "name": "stdout"
        },
        {
          "output_type": "stream",
          "text": [
            ". "
          ],
          "name": "stdout"
        },
        {
          "output_type": "stream",
          "text": [
            ". "
          ],
          "name": "stdout"
        },
        {
          "output_type": "stream",
          "text": [
            ". "
          ],
          "name": "stdout"
        },
        {
          "output_type": "stream",
          "text": [
            ". "
          ],
          "name": "stdout"
        },
        {
          "output_type": "stream",
          "text": [
            ". "
          ],
          "name": "stdout"
        },
        {
          "output_type": "stream",
          "text": [
            ". "
          ],
          "name": "stdout"
        },
        {
          "output_type": "stream",
          "text": [
            ". "
          ],
          "name": "stdout"
        },
        {
          "output_type": "stream",
          "text": [
            ". "
          ],
          "name": "stdout"
        },
        {
          "output_type": "stream",
          "text": [
            ". "
          ],
          "name": "stdout"
        },
        {
          "output_type": "stream",
          "text": [
            ". "
          ],
          "name": "stdout"
        },
        {
          "output_type": "stream",
          "text": [
            ". "
          ],
          "name": "stdout"
        },
        {
          "output_type": "stream",
          "text": [
            ". "
          ],
          "name": "stdout"
        },
        {
          "output_type": "stream",
          "text": [
            ". "
          ],
          "name": "stdout"
        },
        {
          "output_type": "stream",
          "text": [
            ". "
          ],
          "name": "stdout"
        },
        {
          "output_type": "stream",
          "text": [
            ". "
          ],
          "name": "stdout"
        },
        {
          "output_type": "stream",
          "text": [
            ". "
          ],
          "name": "stdout"
        },
        {
          "output_type": "stream",
          "text": [
            ". "
          ],
          "name": "stdout"
        },
        {
          "output_type": "stream",
          "text": [
            ". "
          ],
          "name": "stdout"
        },
        {
          "output_type": "stream",
          "text": [
            ". "
          ],
          "name": "stdout"
        },
        {
          "output_type": "stream",
          "text": [
            ". "
          ],
          "name": "stdout"
        },
        {
          "output_type": "stream",
          "text": [
            ". "
          ],
          "name": "stdout"
        },
        {
          "output_type": "stream",
          "text": [
            ". "
          ],
          "name": "stdout"
        },
        {
          "output_type": "stream",
          "text": [
            ". "
          ],
          "name": "stdout"
        },
        {
          "output_type": "stream",
          "text": [
            ". "
          ],
          "name": "stdout"
        },
        {
          "output_type": "stream",
          "text": [
            ". "
          ],
          "name": "stdout"
        },
        {
          "output_type": "stream",
          "text": [
            ". "
          ],
          "name": "stdout"
        },
        {
          "output_type": "stream",
          "text": [
            ". "
          ],
          "name": "stdout"
        },
        {
          "output_type": "stream",
          "text": [
            ". "
          ],
          "name": "stdout"
        },
        {
          "output_type": "stream",
          "text": [
            ". "
          ],
          "name": "stdout"
        },
        {
          "output_type": "stream",
          "text": [
            ". "
          ],
          "name": "stdout"
        },
        {
          "output_type": "stream",
          "text": [
            ". "
          ],
          "name": "stdout"
        },
        {
          "output_type": "stream",
          "text": [
            ". "
          ],
          "name": "stdout"
        },
        {
          "output_type": "stream",
          "text": [
            ". "
          ],
          "name": "stdout"
        },
        {
          "output_type": "stream",
          "text": [
            ". "
          ],
          "name": "stdout"
        },
        {
          "output_type": "stream",
          "text": [
            "\n",
            "Partition 2 . "
          ],
          "name": "stdout"
        },
        {
          "output_type": "stream",
          "text": [
            ". "
          ],
          "name": "stdout"
        },
        {
          "output_type": "stream",
          "text": [
            ". "
          ],
          "name": "stdout"
        },
        {
          "output_type": "stream",
          "text": [
            ". "
          ],
          "name": "stdout"
        },
        {
          "output_type": "stream",
          "text": [
            ". "
          ],
          "name": "stdout"
        },
        {
          "output_type": "stream",
          "text": [
            ". "
          ],
          "name": "stdout"
        },
        {
          "output_type": "stream",
          "text": [
            ". "
          ],
          "name": "stdout"
        },
        {
          "output_type": "stream",
          "text": [
            ". "
          ],
          "name": "stdout"
        },
        {
          "output_type": "stream",
          "text": [
            ". "
          ],
          "name": "stdout"
        },
        {
          "output_type": "stream",
          "text": [
            ". "
          ],
          "name": "stdout"
        },
        {
          "output_type": "stream",
          "text": [
            ". "
          ],
          "name": "stdout"
        },
        {
          "output_type": "stream",
          "text": [
            ". "
          ],
          "name": "stdout"
        },
        {
          "output_type": "stream",
          "text": [
            ". "
          ],
          "name": "stdout"
        },
        {
          "output_type": "stream",
          "text": [
            ". "
          ],
          "name": "stdout"
        },
        {
          "output_type": "stream",
          "text": [
            ". "
          ],
          "name": "stdout"
        },
        {
          "output_type": "stream",
          "text": [
            ". "
          ],
          "name": "stdout"
        },
        {
          "output_type": "stream",
          "text": [
            ". "
          ],
          "name": "stdout"
        },
        {
          "output_type": "stream",
          "text": [
            ". "
          ],
          "name": "stdout"
        },
        {
          "output_type": "stream",
          "text": [
            ". "
          ],
          "name": "stdout"
        },
        {
          "output_type": "stream",
          "text": [
            ". "
          ],
          "name": "stdout"
        },
        {
          "output_type": "stream",
          "text": [
            ". "
          ],
          "name": "stdout"
        },
        {
          "output_type": "stream",
          "text": [
            ". "
          ],
          "name": "stdout"
        },
        {
          "output_type": "stream",
          "text": [
            ". "
          ],
          "name": "stdout"
        },
        {
          "output_type": "stream",
          "text": [
            ". "
          ],
          "name": "stdout"
        },
        {
          "output_type": "stream",
          "text": [
            ". "
          ],
          "name": "stdout"
        },
        {
          "output_type": "stream",
          "text": [
            ". "
          ],
          "name": "stdout"
        },
        {
          "output_type": "stream",
          "text": [
            ". "
          ],
          "name": "stdout"
        },
        {
          "output_type": "stream",
          "text": [
            ". "
          ],
          "name": "stdout"
        },
        {
          "output_type": "stream",
          "text": [
            ". "
          ],
          "name": "stdout"
        },
        {
          "output_type": "stream",
          "text": [
            ". "
          ],
          "name": "stdout"
        },
        {
          "output_type": "stream",
          "text": [
            ". "
          ],
          "name": "stdout"
        },
        {
          "output_type": "stream",
          "text": [
            ". "
          ],
          "name": "stdout"
        },
        {
          "output_type": "stream",
          "text": [
            ". "
          ],
          "name": "stdout"
        },
        {
          "output_type": "stream",
          "text": [
            ". "
          ],
          "name": "stdout"
        },
        {
          "output_type": "stream",
          "text": [
            ". "
          ],
          "name": "stdout"
        },
        {
          "output_type": "stream",
          "text": [
            ". "
          ],
          "name": "stdout"
        },
        {
          "output_type": "stream",
          "text": [
            ". "
          ],
          "name": "stdout"
        },
        {
          "output_type": "stream",
          "text": [
            ". "
          ],
          "name": "stdout"
        },
        {
          "output_type": "stream",
          "text": [
            ". "
          ],
          "name": "stdout"
        },
        {
          "output_type": "stream",
          "text": [
            ". "
          ],
          "name": "stdout"
        },
        {
          "output_type": "stream",
          "text": [
            "\n",
            "Partition 3 "
          ],
          "name": "stdout"
        },
        {
          "output_type": "stream",
          "text": [
            ". "
          ],
          "name": "stdout"
        },
        {
          "output_type": "stream",
          "text": [
            ". "
          ],
          "name": "stdout"
        },
        {
          "output_type": "stream",
          "text": [
            ". "
          ],
          "name": "stdout"
        },
        {
          "output_type": "stream",
          "text": [
            ". "
          ],
          "name": "stdout"
        },
        {
          "output_type": "stream",
          "text": [
            ". "
          ],
          "name": "stdout"
        },
        {
          "output_type": "stream",
          "text": [
            ". "
          ],
          "name": "stdout"
        },
        {
          "output_type": "stream",
          "text": [
            ". "
          ],
          "name": "stdout"
        },
        {
          "output_type": "stream",
          "text": [
            ". "
          ],
          "name": "stdout"
        },
        {
          "output_type": "stream",
          "text": [
            ". "
          ],
          "name": "stdout"
        },
        {
          "output_type": "stream",
          "text": [
            ". "
          ],
          "name": "stdout"
        },
        {
          "output_type": "stream",
          "text": [
            ". "
          ],
          "name": "stdout"
        },
        {
          "output_type": "stream",
          "text": [
            ". "
          ],
          "name": "stdout"
        },
        {
          "output_type": "stream",
          "text": [
            ". "
          ],
          "name": "stdout"
        },
        {
          "output_type": "stream",
          "text": [
            ". "
          ],
          "name": "stdout"
        },
        {
          "output_type": "stream",
          "text": [
            ". "
          ],
          "name": "stdout"
        },
        {
          "output_type": "stream",
          "text": [
            ". "
          ],
          "name": "stdout"
        },
        {
          "output_type": "stream",
          "text": [
            ". "
          ],
          "name": "stdout"
        },
        {
          "output_type": "stream",
          "text": [
            ". "
          ],
          "name": "stdout"
        },
        {
          "output_type": "stream",
          "text": [
            ". "
          ],
          "name": "stdout"
        },
        {
          "output_type": "stream",
          "text": [
            ". "
          ],
          "name": "stdout"
        },
        {
          "output_type": "stream",
          "text": [
            ". "
          ],
          "name": "stdout"
        },
        {
          "output_type": "stream",
          "text": [
            ". "
          ],
          "name": "stdout"
        },
        {
          "output_type": "stream",
          "text": [
            ". "
          ],
          "name": "stdout"
        },
        {
          "output_type": "stream",
          "text": [
            ". "
          ],
          "name": "stdout"
        },
        {
          "output_type": "stream",
          "text": [
            ". "
          ],
          "name": "stdout"
        },
        {
          "output_type": "stream",
          "text": [
            ". "
          ],
          "name": "stdout"
        },
        {
          "output_type": "stream",
          "text": [
            ". "
          ],
          "name": "stdout"
        },
        {
          "output_type": "stream",
          "text": [
            ". "
          ],
          "name": "stdout"
        },
        {
          "output_type": "stream",
          "text": [
            ". "
          ],
          "name": "stdout"
        },
        {
          "output_type": "stream",
          "text": [
            ". "
          ],
          "name": "stdout"
        },
        {
          "output_type": "stream",
          "text": [
            ". "
          ],
          "name": "stdout"
        },
        {
          "output_type": "stream",
          "text": [
            ". "
          ],
          "name": "stdout"
        },
        {
          "output_type": "stream",
          "text": [
            ". "
          ],
          "name": "stdout"
        },
        {
          "output_type": "stream",
          "text": [
            ". "
          ],
          "name": "stdout"
        },
        {
          "output_type": "stream",
          "text": [
            ". "
          ],
          "name": "stdout"
        },
        {
          "output_type": "stream",
          "text": [
            ". "
          ],
          "name": "stdout"
        },
        {
          "output_type": "stream",
          "text": [
            ". "
          ],
          "name": "stdout"
        },
        {
          "output_type": "stream",
          "text": [
            ". "
          ],
          "name": "stdout"
        },
        {
          "output_type": "stream",
          "text": [
            ". "
          ],
          "name": "stdout"
        },
        {
          "output_type": "stream",
          "text": [
            ". "
          ],
          "name": "stdout"
        },
        {
          "output_type": "stream",
          "text": [
            "\n",
            "Partition 4 . "
          ],
          "name": "stdout"
        },
        {
          "output_type": "stream",
          "text": [
            ". "
          ],
          "name": "stdout"
        },
        {
          "output_type": "stream",
          "text": [
            ". "
          ],
          "name": "stdout"
        },
        {
          "output_type": "stream",
          "text": [
            ". "
          ],
          "name": "stdout"
        },
        {
          "output_type": "stream",
          "text": [
            ". "
          ],
          "name": "stdout"
        },
        {
          "output_type": "stream",
          "text": [
            ". "
          ],
          "name": "stdout"
        },
        {
          "output_type": "stream",
          "text": [
            ". "
          ],
          "name": "stdout"
        },
        {
          "output_type": "stream",
          "text": [
            ". "
          ],
          "name": "stdout"
        },
        {
          "output_type": "stream",
          "text": [
            ". "
          ],
          "name": "stdout"
        },
        {
          "output_type": "stream",
          "text": [
            ". "
          ],
          "name": "stdout"
        },
        {
          "output_type": "stream",
          "text": [
            ". "
          ],
          "name": "stdout"
        },
        {
          "output_type": "stream",
          "text": [
            ". "
          ],
          "name": "stdout"
        },
        {
          "output_type": "stream",
          "text": [
            ". "
          ],
          "name": "stdout"
        },
        {
          "output_type": "stream",
          "text": [
            ". "
          ],
          "name": "stdout"
        },
        {
          "output_type": "stream",
          "text": [
            ". "
          ],
          "name": "stdout"
        },
        {
          "output_type": "stream",
          "text": [
            ". "
          ],
          "name": "stdout"
        },
        {
          "output_type": "stream",
          "text": [
            ". "
          ],
          "name": "stdout"
        },
        {
          "output_type": "stream",
          "text": [
            ". "
          ],
          "name": "stdout"
        },
        {
          "output_type": "stream",
          "text": [
            ". "
          ],
          "name": "stdout"
        },
        {
          "output_type": "stream",
          "text": [
            ". "
          ],
          "name": "stdout"
        },
        {
          "output_type": "stream",
          "text": [
            ". "
          ],
          "name": "stdout"
        },
        {
          "output_type": "stream",
          "text": [
            ". "
          ],
          "name": "stdout"
        },
        {
          "output_type": "stream",
          "text": [
            ". "
          ],
          "name": "stdout"
        },
        {
          "output_type": "stream",
          "text": [
            ". "
          ],
          "name": "stdout"
        },
        {
          "output_type": "stream",
          "text": [
            ". "
          ],
          "name": "stdout"
        },
        {
          "output_type": "stream",
          "text": [
            ". "
          ],
          "name": "stdout"
        },
        {
          "output_type": "stream",
          "text": [
            ". "
          ],
          "name": "stdout"
        },
        {
          "output_type": "stream",
          "text": [
            ". "
          ],
          "name": "stdout"
        },
        {
          "output_type": "stream",
          "text": [
            ". "
          ],
          "name": "stdout"
        },
        {
          "output_type": "stream",
          "text": [
            ". "
          ],
          "name": "stdout"
        },
        {
          "output_type": "stream",
          "text": [
            ". "
          ],
          "name": "stdout"
        },
        {
          "output_type": "stream",
          "text": [
            ". "
          ],
          "name": "stdout"
        },
        {
          "output_type": "stream",
          "text": [
            ". "
          ],
          "name": "stdout"
        },
        {
          "output_type": "stream",
          "text": [
            ". "
          ],
          "name": "stdout"
        },
        {
          "output_type": "stream",
          "text": [
            ". "
          ],
          "name": "stdout"
        },
        {
          "output_type": "stream",
          "text": [
            ". "
          ],
          "name": "stdout"
        },
        {
          "output_type": "stream",
          "text": [
            ". "
          ],
          "name": "stdout"
        },
        {
          "output_type": "stream",
          "text": [
            ". "
          ],
          "name": "stdout"
        },
        {
          "output_type": "stream",
          "text": [
            ". "
          ],
          "name": "stdout"
        },
        {
          "output_type": "stream",
          "text": [
            ".\n"
          ],
          "name": "stdout"
        },
        {
          "output_type": "display_data",
          "data": {},
          "metadata": {
            "tags": []
          }
        }
      ]
    }
  ]
}
